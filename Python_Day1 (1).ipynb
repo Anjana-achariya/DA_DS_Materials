{
  "nbformat": 4,
  "nbformat_minor": 0,
  "metadata": {
    "colab": {
      "provenance": []
    },
    "kernelspec": {
      "name": "python3",
      "display_name": "Python 3"
    },
    "language_info": {
      "name": "python"
    }
  },
  "cells": [
    {
      "cell_type": "markdown",
      "source": [
        "Python Introduction\n",
        "\n",
        "https://www.python.org/downloads/\n",
        "\n",
        "https://www.anaconda.com/download  -> anaconda navigator ->  jupyter notebook\n",
        "\n",
        "https://colab.google/"
      ],
      "metadata": {
        "id": "2yYyNooaW7Kj"
      }
    },
    {
      "cell_type": "markdown",
      "source": [
        "**What is Python ?**\n",
        "\n",
        "\n",
        "\n",
        "* Python is a high-level, interpreted programming language known for its simplicity and readability.\n",
        "* It was created by Guido van Rossum and first released in 1991.\n",
        "* High Level\n",
        "* Easily readable\n",
        "* No declaration\n",
        "* Frameworks and Library\n"
      ],
      "metadata": {
        "id": "6chNP1UNYj0B"
      }
    },
    {
      "cell_type": "markdown",
      "source": [
        "**What is IDE ?**\n",
        "* Software application\n",
        "* Write, test, and debug their code\n",
        "* Source Code Editor\n",
        "* Compiler/Interpreter\n",
        "* Debugger\n",
        "* Automation Tools\n",
        "\n",
        "**Some popular IDE** :\n",
        "\n",
        "* VS Code\n",
        "* Eclipse\n",
        "* IntelliJ IDEA\n",
        "* Pycharm"
      ],
      "metadata": {
        "id": "H8MInZF7bsTN"
      }
    },
    {
      "cell_type": "markdown",
      "source": [
        "**Commenting :**\n"
      ],
      "metadata": {
        "id": "Z4JELmKNmH7-"
      }
    },
    {
      "cell_type": "code",
      "source": [
        "# This is a single-line comment\n",
        "#int x = declaration\n",
        "x = 10  # This is an inline comment explaining the variable assignment # intialization , variable /operand\n",
        "print(x)"
      ],
      "metadata": {
        "id": "Aa42U90rmMYt",
        "colab": {
          "base_uri": "https://localhost:8080/"
        },
        "outputId": "983ceb97-eb81-472c-859b-6293f5dc0a22"
      },
      "execution_count": 1,
      "outputs": [
        {
          "output_type": "stream",
          "name": "stdout",
          "text": [
            "10\n"
          ]
        }
      ]
    },
    {
      "cell_type": "code",
      "source": [
        "# This is a multi-line comment\n",
        "# explaining the following code\n",
        "# block that performs a calculation.\n",
        "x=10\n",
        "y = x * 2\n",
        "#y=20\n",
        "\"\"\"\n",
        "This is a multi-line comment using a multi-line string.\n",
        "It spans multiple lines but does not affect the code execution\n",
        "since it is not assigned to any variable.\n",
        "\"\"\"\n",
        "z = y + 5 #z,x,y =operands. + = operators\n",
        "print(z)\n"
      ],
      "metadata": {
        "colab": {
          "base_uri": "https://localhost:8080/"
        },
        "id": "oM3fEDzNmN-z",
        "outputId": "7f44c7c2-7e2f-460a-ccd8-3e1ef5b8271f"
      },
      "execution_count": 2,
      "outputs": [
        {
          "output_type": "stream",
          "name": "stdout",
          "text": [
            "25\n"
          ]
        }
      ]
    },
    {
      "cell_type": "markdown",
      "source": [
        "* Module: A single file containing Python definitions, functions, and statements.\n",
        "* Package: A directory containing modules and a __init__.py file, used to structure and organize modules hierarchically.\n",
        "* Library: A collection of packages and modules that provide additional functionality to Python applications.\n",
        "* Function: A block of reusable code designed to perform a specific task, taking inputs (parameters), performing actions, and optionally returning a result."
      ],
      "metadata": {
        "id": "-AWB_TqcsKXp"
      }
    },
    {
      "cell_type": "markdown",
      "source": [
        "**What is Keyword ?**\n",
        "* Reserved words\n",
        "* Part of Python Syntax\n",
        "* Cannot be use as identifiers\n",
        "* Control the flow of a program\n",
        "\n",
        "**Control Flow:**  If , Else , Elif , For , While\n",
        "\n",
        "**Function and Class Definitions:** Def , Class\n",
        "\n",
        "**Boolean Values:** True , False\n",
        "\n",
        "**Special Statements:** Import ,  From , Global , Non Global\n",
        "\n",
        "\n",
        "\n",
        "\n"
      ],
      "metadata": {
        "id": "r4V67t9gik6_"
      }
    },
    {
      "cell_type": "code",
      "execution_count": null,
      "metadata": {
        "colab": {
          "base_uri": "https://localhost:8080/"
        },
        "id": "BEPleo1HWvaJ",
        "outputId": "757498c3-99ff-469e-8ac7-53e8c30e58e0"
      },
      "outputs": [
        {
          "output_type": "stream",
          "name": "stdout",
          "text": [
            "['False', 'None', 'True', 'and', 'as', 'assert', 'async', 'await', 'break', 'class', 'continue', 'def', 'del', 'elif', 'else', 'except', 'finally', 'for', 'from', 'global', 'if', 'import', 'in', 'is', 'lambda', 'nonlocal', 'not', 'or', 'pass', 'raise', 'return', 'try', 'while', 'with', 'yield']\n",
            "True\n",
            "False\n"
          ]
        }
      ],
      "source": [
        "import keyword\n",
        "\n",
        "print(keyword.kwlist)  # Prints the list of all keywords\n",
        "print(keyword.iskeyword('if'))  # Returns True\n",
        "print(keyword.iskeyword('hello'))  # Returns False\n"
      ]
    },
    {
      "cell_type": "code",
      "source": [
        "import keyword\n",
        "kw = keyword.kwlist\n",
        "for i in kw:\n",
        "    print(i)"
      ],
      "metadata": {
        "colab": {
          "base_uri": "https://localhost:8080/"
        },
        "id": "xTznS7PNsNSY",
        "outputId": "d5d17821-f0bc-4815-ce3e-2d5b8caf0bca"
      },
      "execution_count": null,
      "outputs": [
        {
          "output_type": "stream",
          "name": "stdout",
          "text": [
            "False\n",
            "None\n",
            "True\n",
            "and\n",
            "as\n",
            "assert\n",
            "async\n",
            "await\n",
            "break\n",
            "class\n",
            "continue\n",
            "def\n",
            "del\n",
            "elif\n",
            "else\n",
            "except\n",
            "finally\n",
            "for\n",
            "from\n",
            "global\n",
            "if\n",
            "import\n",
            "in\n",
            "is\n",
            "lambda\n",
            "nonlocal\n",
            "not\n",
            "or\n",
            "pass\n",
            "raise\n",
            "return\n",
            "try\n",
            "while\n",
            "with\n",
            "yield\n"
          ]
        }
      ]
    },
    {
      "cell_type": "markdown",
      "source": [
        "Valid Identifiers / Variabels"
      ],
      "metadata": {
        "id": "uOCeC5GZls06"
      }
    },
    {
      "cell_type": "code",
      "source": [
        "# Integer\n",
        "\n",
        "age = 25\n",
        "print('age:',age)\n",
        "\n",
        "#name= \"anjana122\"\n"
      ],
      "metadata": {
        "id": "Pg95bOmGqNU4",
        "colab": {
          "base_uri": "https://localhost:8080/"
        },
        "outputId": "0378337f-660f-4d0a-acd4-6ce942cffbb3"
      },
      "execution_count": 5,
      "outputs": [
        {
          "output_type": "stream",
          "name": "stdout",
          "text": [
            "age: 25\n"
          ]
        }
      ]
    },
    {
      "cell_type": "code",
      "source": [
        "for= 12"
      ],
      "metadata": {
        "colab": {
          "base_uri": "https://localhost:8080/",
          "height": 106
        },
        "id": "38qcUC_qmNaZ",
        "outputId": "22064b39-896a-46ff-cff5-b9be3e8832fa"
      },
      "execution_count": 3,
      "outputs": [
        {
          "output_type": "error",
          "ename": "SyntaxError",
          "evalue": "invalid syntax (<ipython-input-3-e42cdf9b7980>, line 1)",
          "traceback": [
            "\u001b[0;36m  File \u001b[0;32m\"<ipython-input-3-e42cdf9b7980>\"\u001b[0;36m, line \u001b[0;32m1\u001b[0m\n\u001b[0;31m    for= 12\u001b[0m\n\u001b[0m       ^\u001b[0m\n\u001b[0;31mSyntaxError\u001b[0m\u001b[0;31m:\u001b[0m invalid syntax\n"
          ]
        }
      ]
    },
    {
      "cell_type": "code",
      "source": [
        "# Float\n",
        "\n",
        "temperature = 36.6\n"
      ],
      "metadata": {
        "id": "0PceHroYqlaf"
      },
      "execution_count": null,
      "outputs": []
    },
    {
      "cell_type": "code",
      "source": [
        "# String\n",
        "\n",
        "name = \"John Doe\"\n"
      ],
      "metadata": {
        "id": "M2PSXvs3qqom"
      },
      "execution_count": null,
      "outputs": []
    },
    {
      "cell_type": "code",
      "source": [
        "a,b,c,d = 10, \"HI\", 12.34, True"
      ],
      "metadata": {
        "id": "8gw85QoUqwwV"
      },
      "execution_count": 6,
      "outputs": []
    },
    {
      "cell_type": "code",
      "source": [
        "type(a)"
      ],
      "metadata": {
        "id": "Xu60C122r1uF",
        "colab": {
          "base_uri": "https://localhost:8080/"
        },
        "outputId": "cfb980fd-37d6-475b-bf43-9d8c48343acd"
      },
      "execution_count": 7,
      "outputs": [
        {
          "output_type": "execute_result",
          "data": {
            "text/plain": [
              "int"
            ]
          },
          "metadata": {},
          "execution_count": 7
        }
      ]
    },
    {
      "cell_type": "code",
      "source": [
        "print ('a:', a ,type(a))"
      ],
      "metadata": {
        "id": "7W4NSv36sCNm",
        "colab": {
          "base_uri": "https://localhost:8080/"
        },
        "outputId": "79abf464-000c-4aee-b60d-e83fbbc9e92b"
      },
      "execution_count": 11,
      "outputs": [
        {
          "output_type": "stream",
          "name": "stdout",
          "text": [
            "a: 10 <class 'int'>\n"
          ]
        }
      ]
    },
    {
      "cell_type": "code",
      "source": [
        "print(15+10+10)"
      ],
      "metadata": {
        "id": "4JAlQ2O6sJhE",
        "colab": {
          "base_uri": "https://localhost:8080/"
        },
        "outputId": "7d69b7e5-0360-457f-fb92-26867a91f06c"
      },
      "execution_count": 12,
      "outputs": [
        {
          "output_type": "stream",
          "name": "stdout",
          "text": [
            "35\n"
          ]
        }
      ]
    },
    {
      "cell_type": "code",
      "source": [
        "notebook = 40\n",
        "pencil = 10\n",
        "pen = 10"
      ],
      "metadata": {
        "id": "qZWdrPOGsSjG"
      },
      "execution_count": 13,
      "outputs": []
    },
    {
      "cell_type": "code",
      "source": [
        "print(notebook+pencil+pen)"
      ],
      "metadata": {
        "colab": {
          "base_uri": "https://localhost:8080/"
        },
        "id": "bKuEeCLNsTbo",
        "outputId": "8707a632-38f3-4d1a-f3cb-c287d61ecfb3"
      },
      "execution_count": 14,
      "outputs": [
        {
          "output_type": "stream",
          "name": "stdout",
          "text": [
            "60\n"
          ]
        }
      ]
    },
    {
      "cell_type": "code",
      "source": [
        "myVariable = 10\n",
        "_variable = 5\n",
        "variable123 = \"Hello\"\n",
        "Variable = True\n",
        "age=25\n",
        "Name= \"anjana\""
      ],
      "metadata": {
        "id": "DDvRnPhHk8X-"
      },
      "execution_count": null,
      "outputs": []
    },
    {
      "cell_type": "markdown",
      "source": [
        "Invalid Identifiers / Variabels"
      ],
      "metadata": {
        "id": "9A6hwivOlxiG"
      }
    },
    {
      "cell_type": "code",
      "source": [
        "123variable = 10     # Starts with a digit\n",
        "my-variable = 5      # Contains a hyphen\n",
        "class = \"Hello\"      # Uses a reserved keyword\n",
        "var!able = True      # Contains a special character\n",
        "var riable= 10"
      ],
      "metadata": {
        "id": "VYFNg_IHli9H"
      },
      "execution_count": null,
      "outputs": []
    },
    {
      "cell_type": "markdown",
      "source": [
        "Operators"
      ],
      "metadata": {
        "id": "BeoVVj3gtKSA"
      }
    },
    {
      "cell_type": "code",
      "source": [
        "# Arithmetic Operators\n",
        "# assignment operator \"=\"\n",
        "a = 10\n",
        "b = 20\n",
        "\n",
        "c = a+b\n",
        "d = a-b\n",
        "e = a*b\n",
        "f = a/b\n",
        "g = a%b # return remainder - 3/2 =1\n",
        "h = a//b # floor division - 3/2 = 1.5= 1\n",
        "\n",
        "print(\"Addition : \\n\", c)\n",
        "print(\"Subtraction : \\t\", d)\n",
        "print(\"Mul : \", e)\n",
        "print(\"Div : \", f)\n",
        "print(\"Modulo : \", g)\n",
        "print(\"Floor : \", h)\n"
      ],
      "metadata": {
        "colab": {
          "base_uri": "https://localhost:8080/"
        },
        "id": "sKRQsM-dtMrS",
        "outputId": "0eb154fd-cf59-4f15-8dbb-ad54e19ec4d0"
      },
      "execution_count": 1,
      "outputs": [
        {
          "output_type": "stream",
          "name": "stdout",
          "text": [
            "Addition : \n",
            " 30\n",
            "Subtraction : \t -10\n",
            "Mul :  200\n",
            "Div :  0.5\n",
            "Modulo :  10\n",
            "Floor :  0\n"
          ]
        }
      ]
    },
    {
      "cell_type": "code",
      "source": [
        "# Assignment operators\n",
        "\n",
        "a = 2\n",
        "\n",
        "a+=2   # a = a+2\n",
        "print(a)\n",
        "a*=2   # a = a*2\n",
        "print(a)\n",
        "a/=2   # a = a/2\n",
        "print(a)\n",
        "a-=2   # a = a-2\n",
        "print(a)\n",
        "\n",
        " # bitwise operator\n",
        "a = 10  # Binary representation: 1010\n",
        "a&=2   # a = a&2\n",
        "\n",
        "# and , or ,not ,xor = logical operator\n",
        "# bitwise operator = and ,or,not ,xor =works on bit . number will be coverted into binary\n",
        "a=10\n",
        "b=20\n",
        "if a<b and a!=b: #a<b =true/1 , a!=b =true/1 o/p =1\n",
        "  print(\"true\")\n",
        "\"\"\"\n",
        "condition for and operator/gate\n",
        "1=true 1= true o/p =1 true\n",
        "1=true 0= false o/p =0 false\n",
        "0=true 1= false o/p =0 false\n",
        "0=false 0= false o/p =0 false\n",
        "\"\"\"\n",
        "# 1 =true , 0=False\n",
        "\n",
        "1010 #10 ,decimal =0to1 ,binary=0,1\n",
        "&\n",
        "0010 #20\n",
        "=\n",
        "0010 #20\n",
        "\n",
        "print(a)\n",
        "a|=2   # a = a|2\n",
        "\n",
        "a=10\n",
        "b=20\n",
        "if a>b or a!=b:  #condition 1= false, condition 2= true o/p =true\n",
        "  print(\"true\")\n",
        "\n",
        "\"\"\"\n",
        "condition for or operator/gate\n",
        "1=true 1= true o/p =1 true\n",
        "1=true 0= false o/p =1 true\n",
        "0=true 1= false o/p =1 true\n",
        "0=false 0= false o/p =0 false\n",
        "1010\n",
        "|\n",
        "0010\n",
        "=\n",
        "1010\n",
        "\"\"\"\n",
        "\n",
        "print(a)\n",
        "a^=2   # a = a^2\n",
        "print(a)\n",
        "\n",
        "a=10\n",
        "b=20\n",
        "if a>b and a!=b:  #condition 1= false, condition 2= true o/p = true\n",
        "  print(\"true\")\n",
        "\"\"\" xor operator\n",
        "\n",
        "only one condition should be true\n",
        "1= false , 0=true o/p =1 true\n",
        "1=true , 0=false o/p =1 true\n",
        "0=true , 1=false o/p =1 true\n",
        "0=false , 0=false o/p =0 false\n",
        "1=true, 1=true o/p =0 false\n",
        "\"\"\"\n",
        "print(a)\n",
        "a>>=2   # a = a>>2\n",
        "print(a)\n",
        "1010\n",
        "^\n",
        "0010\n",
        "=\n",
        "1000\n",
        "\n",
        "\n",
        "a<<=2  # a = a<<2 #left shift\n",
        "print(a)\n",
        "\n",
        "\n",
        "a>>=2  # a = a>>2 #right shift"
      ],
      "metadata": {
        "id": "IiXYjIlItPVj"
      },
      "execution_count": null,
      "outputs": []
    },
    {
      "cell_type": "code",
      "source": [
        "x = 10\n",
        "y = 20\n",
        "\n",
        "x_binary = bin(x)\n",
        "y_binary = bin(y)\n",
        "\n",
        "print(f\"Binary representation of {x} is {x_binary}\")\n",
        "print(f\"Binary representation of {y} is {y_binary}\")\n"
      ],
      "metadata": {
        "colab": {
          "base_uri": "https://localhost:8080/"
        },
        "id": "ZgZdEf2mox78",
        "outputId": "7a35ffa2-0757-443d-f631-d4f86532c2e5"
      },
      "execution_count": 2,
      "outputs": [
        {
          "output_type": "stream",
          "name": "stdout",
          "text": [
            "Binary representation of 10 is 0b1010\n",
            "Binary representation of 20 is 0b10100\n"
          ]
        }
      ]
    },
    {
      "cell_type": "code",
      "source": [
        "num = 10\n",
        "\n",
        "# Convert decimal to binary\n",
        "binary_representation = bin(num)\n",
        "print(binary_representation)  # Output: 0b1010\n",
        "\n",
        "# Convert decimal to octal\n",
        "octal_representation = oct(num)\n",
        "print(octal_representation)  # Output: 0o12\n",
        "\n",
        "# Convert decimal to hexadecimal\n",
        "hexadecimal_representation = hex(num)\n",
        "print(hexadecimal_representation)  # Output: 0xa\n"
      ],
      "metadata": {
        "colab": {
          "base_uri": "https://localhost:8080/"
        },
        "id": "qJrm_uRkk7FA",
        "outputId": "e8ed5f69-5d90-4fa8-8b31-2b43c0178c51"
      },
      "execution_count": null,
      "outputs": [
        {
          "output_type": "stream",
          "name": "stdout",
          "text": [
            "Binary 1010 to Decimal: 10\n",
            "Octal 12 to Decimal: 10\n",
            "Hexadecimal A to Decimal: 10\n",
            "Hexadecimal 1A to Decimal: 26\n"
          ]
        }
      ]
    },
    {
      "cell_type": "code",
      "source": [
        "# Convert binary string to decimal\n",
        "binary_string = \"1010\"\n",
        "decimal_from_binary = int(binary_string, 2)\n",
        "print(decimal_from_binary)  # Output: 10\n",
        "\n",
        "# Convert octal string to decimal\n",
        "octal_string = \"12\"\n",
        "decimal_from_octal = int(octal_string, 8)\n",
        "print(decimal_from_octal)  # Output: 10\n",
        "\n",
        "# Convert hexadecimal string to decimal\n",
        "hexadecimal_string = \"A\"\n",
        "decimal_from_hexadecimal = int(hexadecimal_string, 16)\n",
        "print(decimal_from_hexadecimal)  # Output: 10\n"
      ],
      "metadata": {
        "id": "CDgB-aWjys__"
      },
      "execution_count": null,
      "outputs": []
    },
    {
      "cell_type": "markdown",
      "source": [
        "binary to decimal"
      ],
      "metadata": {
        "id": "ZN-Yx2NAzqFR"
      }
    },
    {
      "cell_type": "code",
      "source": [
        "1 * 2^3 + 0 * 2^2 + 1 * 2^1 + 0 * 2^0  #1010\n",
        "= 1 * 8 + 0 * 4 + 1 * 2 + 0 * 1\n",
        "= 8 + 0 + 2 + 0\n",
        "= 10 (in decimal)\n"
      ],
      "metadata": {
        "id": "xyVEprAuzWXy"
      },
      "execution_count": null,
      "outputs": []
    },
    {
      "cell_type": "markdown",
      "source": [
        "decimal to binary :\n",
        "* Divide the number by 2 and record the remainder.\n",
        "* Continue dividing the quotient by 2 until the quotient is 0.\n",
        "* The binary representation is the sequence of remainders read in reverse (from last to first).\n"
      ],
      "metadata": {
        "id": "njJwn3DHzwL4"
      }
    },
    {
      "cell_type": "code",
      "source": [
        "Step 1: 10 ÷ 2 = 5, remainder = 0 #10 decimal value ,2 base of decimal\n",
        "Step 2:  5 ÷ 2 = 2, remainder = 1 #not the o/p 0101 #correct o/p 1010\n",
        "Step 3:  2 ÷ 2 = 1, remainder = 0\n",
        "Step 4:  1 ÷ 2 = 0, remainder = 1\n"
      ],
      "metadata": {
        "id": "eHsKWjp8zteK"
      },
      "execution_count": null,
      "outputs": []
    },
    {
      "cell_type": "code",
      "source": [
        "# Comparison operators\n",
        "\n",
        "a = 10\n",
        "b = 20\n",
        "\n",
        "print(a<b) #true (less than)\n",
        "print(a>b) #false (greater than)\n",
        "print(a<=b) #true (less than or equal to)\n",
        "print(a>=b) #false (greater than of equal to)\n",
        "print(a==b) #false #if the remainder is zero ,it is true or else false\n",
        "print(a!=b) #true ( not equal)"
      ],
      "metadata": {
        "colab": {
          "base_uri": "https://localhost:8080/"
        },
        "id": "8T1g-aKntlDq",
        "outputId": "8c02dbab-92b3-4f19-9598-43156f22fd5a"
      },
      "execution_count": null,
      "outputs": [
        {
          "output_type": "stream",
          "name": "stdout",
          "text": [
            "True\n",
            "False\n",
            "True\n",
            "False\n",
            "False\n",
            "True\n"
          ]
        }
      ]
    },
    {
      "cell_type": "markdown",
      "source": [
        "* and: Returns True if both operands are True.  1=true 0=false\n",
        "1=true, 1= true ans= true\n",
        "1 , 0 = false\n",
        "0,1 =false\n",
        "0,0 =false\n",
        "1,1 =true\n",
        "* or: Returns True if at least one operand is True.\n",
        "\n",
        "1 , 0 = true\n",
        "0,1 = true\n",
        "0,0 =false\n",
        "1,1 =true\n",
        "\n",
        "* xor: Returns True if exactly one operand is True, but not both.\n",
        "\n",
        "1 , 0 = true\n",
        "0,1 = true\n",
        "0,0 =false\n",
        "1,1 = false\n",
        "\n",
        "* not: Negates the Boolean value of its operand."
      ],
      "metadata": {
        "id": "kffVyIjIBzyq"
      }
    },
    {
      "cell_type": "code",
      "source": [
        "# Logical operators\n",
        "\n",
        "# and, or, not\n",
        "\n",
        "a = 10\n",
        "b = 20\n",
        "c = 30\n",
        "\n",
        "print((a<=b)and(a!=b)) # both condition should be true(1) ,o/p =true(1)"
      ],
      "metadata": {
        "id": "MstgIUm4tm_F"
      },
      "execution_count": null,
      "outputs": []
    },
    {
      "cell_type": "code",
      "source": [
        "print((a<b)or(a==b)) # either one condition should be true(1), o/p =true(1)"
      ],
      "metadata": {
        "id": "qRsUonDgtuYj"
      },
      "execution_count": null,
      "outputs": []
    },
    {
      "cell_type": "code",
      "source": [
        "print(not(a<b)) #result will be opposite"
      ],
      "metadata": {
        "colab": {
          "base_uri": "https://localhost:8080/"
        },
        "id": "hMoN4ijHtwo2",
        "outputId": "8bd05852-88eb-4419-e962-63349cae9a1a"
      },
      "execution_count": null,
      "outputs": [
        {
          "output_type": "stream",
          "name": "stdout",
          "text": [
            "False\n"
          ]
        }
      ]
    },
    {
      "cell_type": "markdown",
      "source": [
        "Conditional Statements"
      ],
      "metadata": {
        "id": "f9K2Z3Lut8HT"
      }
    },
    {
      "cell_type": "code",
      "source": [
        "# Conditional statements\n",
        "\n",
        "# if\n",
        "# if-else\n",
        "# if-elif-else\n",
        "# nested-if\n"
      ],
      "metadata": {
        "id": "mz5Y-MBjtzSS"
      },
      "execution_count": null,
      "outputs": []
    },
    {
      "cell_type": "code",
      "source": [
        "# if # if the condition satisfies print the result\n",
        "\n",
        "i = 10 # var = value\n",
        "\n",
        "if i%2 == 0: #if #condition ,if the condition i%2 == 0 (10/2 = remainder 0) satisfies print even\n",
        "  print(\"EVEN\")\n",
        "\n",
        "if i%2 != 0: #if the condition i%2 == 0 (10/2 != remainder 0) satisfies print odd\n",
        "    print(\"ODD\")\n",
        "\n",
        "#example 2\n",
        "a= 10\n",
        "b=20\n",
        "if a<b:\n",
        "  print(\"a is less than b\") #o/p\n",
        "if a>b:\n",
        "  print(\"a is greater than b\")"
      ],
      "metadata": {
        "id": "9CLCJhNyuBKX"
      },
      "execution_count": null,
      "outputs": []
    },
    {
      "cell_type": "code",
      "source": [
        "# if -else\n",
        "\n",
        "i = 10\n",
        "\n",
        "if i%2 == 0:\n",
        "    print(\"EVEN\")\n",
        "else:\n",
        "    print(\"ODD\")\n",
        "\n",
        "#example2\n",
        "\n",
        "a=10\n",
        "b=20\n",
        "if a<b:\n",
        "  print(\"a is less than b\")\n",
        "else:\n",
        "  print(\"a is greater than b\")"
      ],
      "metadata": {
        "id": "GTEu1DyZuEH5",
        "colab": {
          "base_uri": "https://localhost:8080/"
        },
        "outputId": "84a158b9-f7e9-4d01-e2c3-2c13bcf61b09"
      },
      "execution_count": 4,
      "outputs": [
        {
          "output_type": "stream",
          "name": "stdout",
          "text": [
            "EVEN\n",
            "a is less than b\n"
          ]
        }
      ]
    },
    {
      "cell_type": "code",
      "source": [
        "# if-elif-else\n",
        "\n",
        "i,j = 10,20\n",
        "\n",
        "if i%2 == 0: #1st condition\n",
        "    print(\"i is EVEN\")\n",
        "\n",
        "elif j%2 == 0:\n",
        "    print(\"j is EVEN\")\n",
        "\n",
        "elif i%j == 0:\n",
        "    print(\"i%j is EVEN\")\n",
        "\n",
        "else:\n",
        "    print(\"None of the condition is satisfied\")\n"
      ],
      "metadata": {
        "id": "sgdyaaL0uIAt",
        "colab": {
          "base_uri": "https://localhost:8080/"
        },
        "outputId": "39b58800-9285-499a-f067-059edfb7f855"
      },
      "execution_count": 7,
      "outputs": [
        {
          "output_type": "stream",
          "name": "stdout",
          "text": [
            "i is EVEN\n"
          ]
        }
      ]
    },
    {
      "cell_type": "code",
      "source": [
        "# nested if\n",
        "\n",
        "i = -16 #signed integer\n",
        "\n",
        "if i%2 == 0: #1st if ,16 is divisible 2 ,remainder 0\n",
        "    print(i, \" is divisible by 2\") #satisfied ,printed\n",
        "    if i%4 == 0: #2nd if ,16 is divisible by 4 ,remainder 0\n",
        "        print(i, \" is divisible by 4\")\n",
        "    else: #else of 2nd if statement\n",
        "        print(i, \" is not divisible by 4\")\n",
        "else: #else of 1st if statement\n",
        "    print(i, \" is not divisible by 2\")"
      ],
      "metadata": {
        "id": "qZu52sTyuOEy",
        "colab": {
          "base_uri": "https://localhost:8080/"
        },
        "outputId": "127e88c5-c1a2-4fcf-f661-3b08f2d0e238"
      },
      "execution_count": 10,
      "outputs": [
        {
          "output_type": "stream",
          "name": "stdout",
          "text": [
            "-16  is divisible by -2\n",
            "-16  is divisible by 4\n"
          ]
        }
      ]
    },
    {
      "cell_type": "markdown",
      "source": [
        "**Type Casting :**\n",
        "* Type casting, also known as type conversion, is the process of converting a variable from one data type to another."
      ],
      "metadata": {
        "id": "VAF32joIukJ1"
      }
    },
    {
      "cell_type": "code",
      "source": [
        "# String to Integer\n",
        "age_str = \"25\" # \"\"=character/string if not integer ,decimal .datatype of 25= str  ,type()\n",
        "age_int = int(age_str)\n",
        "print(\"Age as integer:\", age_int)\n",
        "print(\"Type of age_int:\", type(age_int))\n",
        "\n",
        "# String to Float\n",
        "temp_str = \"36.6\"\n",
        "temp_float = float(temp_str) #float(\"36.6\")\n",
        "print(\"Temperature as float:\", temp_float)\n",
        "print(\"Type of temp_float:\", type(temp_float))\n",
        "\n",
        "# Integer to String\n",
        "age_int = 25 #25 =integer ,bcuz we havent used \"\"\n",
        "age_str = str(age_int)\n",
        "print(\"Age as string:\", age_str)\n",
        "print(\"Type of age_str:\", type(age_str))\n",
        "\n",
        "# Float to Integer\n",
        "temp_float = 36.6\n",
        "temp_int = int(temp_float)\n",
        "print(\"Temperature as integer:\", temp_int)\n",
        "print(\"Type of temp_int:\", type(temp_int))\n",
        "\n",
        "# Integer to Boolean\n",
        "value = 1\n",
        "value_bool = bool(value)\n",
        "print(\"Value as boolean:\", value_bool)\n",
        "print(\"Type of value_bool:\", type(value_bool))\n",
        "\n",
        "----\n",
        "\n",
        "# String to List\n",
        "string = \"hello\"\n",
        "string_list = list(string)\n",
        "print(\"String as list:\", string_list)\n",
        "print(\"Type of string_list:\", type(string_list))\n",
        "\n",
        "# List to Tuple\n",
        "list_example = [1, 2, 3]\n",
        "list_tuple = tuple(list_example)\n",
        "print(\"List as tuple:\", list_tuple)\n",
        "print(\"Type of list_tuple:\", type(list_tuple))\n"
      ],
      "metadata": {
        "colab": {
          "base_uri": "https://localhost:8080/"
        },
        "id": "FDX1tw55yco7",
        "outputId": "7491bf98-b071-451a-e412-f43030db89de"
      },
      "execution_count": null,
      "outputs": [
        {
          "output_type": "stream",
          "name": "stdout",
          "text": [
            "Age as integer: 25\n",
            "Type of age_int: <class 'int'>\n",
            "Temperature as float: 36.6\n",
            "Type of temp_float: <class 'float'>\n",
            "Age as string: 25\n",
            "Type of age_str: <class 'str'>\n",
            "Temperature as integer: 36\n",
            "Type of temp_int: <class 'int'>\n",
            "Value as boolean: True\n",
            "Type of value_bool: <class 'bool'>\n",
            "String as list: ['h', 'e', 'l', 'l', 'o']\n",
            "Type of string_list: <class 'list'>\n",
            "List as tuple: (1, 2, 3)\n",
            "Type of list_tuple: <class 'tuple'>\n"
          ]
        }
      ]
    },
    {
      "cell_type": "markdown",
      "source": [
        "Fetching user input"
      ],
      "metadata": {
        "id": "ldHhmnvWzhgI"
      }
    },
    {
      "cell_type": "code",
      "source": [
        "# Fetching user input as a string\n",
        "user_name = input(\"Enter your name: \")\n",
        "print(\"Hello, \" + user_name + \"!\")\n",
        "\n",
        "# Fetching user input and converting to an integer\n",
        "user_age = input(\"Enter your age: \")\n",
        "user_age = int(user_age)\n",
        "print(\"You are \" + str(user_age) + \" years old.\")\n",
        "\n",
        "# Fetching user input and converting to a float\n",
        "user_height = input(\"Enter your height in meters: \")\n",
        "user_height = float(user_height)\n",
        "print(\"Your height is \" + str(user_height) + \" meters.\")\n"
      ],
      "metadata": {
        "colab": {
          "base_uri": "https://localhost:8080/"
        },
        "id": "jhplee3Lzj5v",
        "outputId": "b50a384b-2f0c-40f0-c303-83d0d30e539a"
      },
      "execution_count": null,
      "outputs": [
        {
          "output_type": "stream",
          "name": "stdout",
          "text": [
            "Enter your name: anjana\n",
            "Hello, anjana!\n",
            "Enter your age: 25\n",
            "You are 25 years old.\n",
            "Enter your height in meters: 1.5\n",
            "Your height is 1.5 meters.\n"
          ]
        }
      ]
    },
    {
      "cell_type": "markdown",
      "source": [
        "Task Day 1:\n",
        "* **Task 1**: Setting Up and Using an IDE\n",
        "* **Task 2:** Working with Keywords and Variables\n",
        "Create a Python script.\n",
        "Declare and initialize variables of different types (integer, float, string, boolean).\n",
        "Print the values and types of these variables.\n",
        "* **Task 3:** Fetching User Input and Using Type Casting\n",
        "Create a Python script.\n",
        "Fetch user's name (string), age (integer), and height (float).\n",
        "Convert the inputs to appropriate types.\n",
        "Print a summary message using the input data.\n",
        "* **Task 4:** Using Operators\n",
        "Create a Python script.\n",
        "Declare and initialize variables.\n",
        "Perform arithmetic operations (+, -, *, /, //, %, **).\n",
        "Use comparison operators (==, !=, >, <, >=, <=).\n",
        "Use logical operators (and, or, not).\n",
        "Print the results of these operations.\n",
        "* **Task 5**:  Conditional Statements\n",
        "Create a Python script.\n",
        "Declare and initialize a variable.\n",
        "Use if, elif, and else statements to make decisions based on the value of the variable.\n",
        "Print appropriate messages based on the conditions."
      ],
      "metadata": {
        "id": "V6ctAstZ0vCd"
      }
    }
  ]
}